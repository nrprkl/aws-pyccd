{
 "cells": [
  {
   "cell_type": "code",
   "execution_count": 2,
   "metadata": {
    "collapsed": false
   },
   "outputs": [],
   "source": [
    "%matplotlib inline\n",
    "import datacube"
   ]
  },
  {
   "cell_type": "code",
   "execution_count": 3,
   "metadata": {
    "collapsed": true
   },
   "outputs": [],
   "source": [
    "dc = datacube.Datacube()"
   ]
  },
  {
   "cell_type": "code",
   "execution_count": 4,
   "metadata": {
    "collapsed": false
   },
   "outputs": [
    {
     "data": {
      "text/html": [
       "<div>\n",
       "<table border=\"1\" class=\"dataframe\">\n",
       "  <thead>\n",
       "    <tr style=\"text-align: right;\">\n",
       "      <th></th>\n",
       "      <th>name</th>\n",
       "      <th>description</th>\n",
       "      <th>product_type</th>\n",
       "      <th>platform</th>\n",
       "      <th>lat</th>\n",
       "      <th>format</th>\n",
       "      <th>time</th>\n",
       "      <th>instrument</th>\n",
       "      <th>lon</th>\n",
       "      <th>crs</th>\n",
       "      <th>resolution</th>\n",
       "      <th>tile_size</th>\n",
       "      <th>spatial_dimensions</th>\n",
       "    </tr>\n",
       "    <tr>\n",
       "      <th>id</th>\n",
       "      <th></th>\n",
       "      <th></th>\n",
       "      <th></th>\n",
       "      <th></th>\n",
       "      <th></th>\n",
       "      <th></th>\n",
       "      <th></th>\n",
       "      <th></th>\n",
       "      <th></th>\n",
       "      <th></th>\n",
       "      <th></th>\n",
       "      <th></th>\n",
       "      <th></th>\n",
       "    </tr>\n",
       "  </thead>\n",
       "  <tbody>\n",
       "    <tr>\n",
       "      <th>1</th>\n",
       "      <td>ls5_usgs_ard</td>\n",
       "      <td>Landsat 5 USGS ARD 30 metre tile</td>\n",
       "      <td>LS_USGS_ARD</td>\n",
       "      <td>LANDSAT_5</td>\n",
       "      <td>None</td>\n",
       "      <td>GeoTiff</td>\n",
       "      <td>None</td>\n",
       "      <td>TM</td>\n",
       "      <td>None</td>\n",
       "      <td>PROJCS[\"Albers\", GEOGCS[\"NAD83\", DATUM[\"North_...</td>\n",
       "      <td>[-30, 30]</td>\n",
       "      <td>None</td>\n",
       "      <td>(y, x)</td>\n",
       "    </tr>\n",
       "  </tbody>\n",
       "</table>\n",
       "</div>"
      ],
      "text/plain": [
       "            name                       description product_type   platform  \\\n",
       "id                                                                           \n",
       "1   ls5_usgs_ard  Landsat 5 USGS ARD 30 metre tile  LS_USGS_ARD  LANDSAT_5   \n",
       "\n",
       "     lat   format  time instrument   lon  \\\n",
       "id                                         \n",
       "1   None  GeoTiff  None         TM  None   \n",
       "\n",
       "                                                  crs resolution tile_size  \\\n",
       "id                                                                           \n",
       "1   PROJCS[\"Albers\", GEOGCS[\"NAD83\", DATUM[\"North_...  [-30, 30]      None   \n",
       "\n",
       "   spatial_dimensions  \n",
       "id                     \n",
       "1              (y, x)  "
      ]
     },
     "execution_count": 4,
     "metadata": {},
     "output_type": "execute_result"
    }
   ],
   "source": [
    "dc.list_products()"
   ]
  },
  {
   "cell_type": "code",
   "execution_count": 22,
   "metadata": {
    "collapsed": false
   },
   "outputs": [
    {
     "data": {
      "text/html": [
       "<div>\n",
       "<table border=\"1\" class=\"dataframe\">\n",
       "  <thead>\n",
       "    <tr style=\"text-align: right;\">\n",
       "      <th></th>\n",
       "      <th></th>\n",
       "      <th>aliases</th>\n",
       "      <th>dtype</th>\n",
       "      <th>flags_definition</th>\n",
       "      <th>name</th>\n",
       "      <th>nodata</th>\n",
       "      <th>spectral_definition</th>\n",
       "      <th>units</th>\n",
       "    </tr>\n",
       "    <tr>\n",
       "      <th>product</th>\n",
       "      <th>measurement</th>\n",
       "      <th></th>\n",
       "      <th></th>\n",
       "      <th></th>\n",
       "      <th></th>\n",
       "      <th></th>\n",
       "      <th></th>\n",
       "      <th></th>\n",
       "    </tr>\n",
       "  </thead>\n",
       "  <tbody>\n",
       "    <tr>\n",
       "      <th rowspan=\"2\" valign=\"top\">ls5_usgs_ard</th>\n",
       "      <th>sr_band3</th>\n",
       "      <td>[band_3, red]</td>\n",
       "      <td>int16</td>\n",
       "      <td>NaN</td>\n",
       "      <td>sr_band3</td>\n",
       "      <td>-9999</td>\n",
       "      <td>{'response': [0.0018, 0.002, 0.0079, 0.0205, 0...</td>\n",
       "      <td>1</td>\n",
       "    </tr>\n",
       "    <tr>\n",
       "      <th>sr_band5</th>\n",
       "      <td>[band_5, swir1]</td>\n",
       "      <td>int16</td>\n",
       "      <td>NaN</td>\n",
       "      <td>sr_band5</td>\n",
       "      <td>-9999</td>\n",
       "      <td>{'response': [0.0012, 0.0013, 0.0014, 0.0016, ...</td>\n",
       "      <td>1</td>\n",
       "    </tr>\n",
       "  </tbody>\n",
       "</table>\n",
       "</div>"
      ],
      "text/plain": [
       "                                  aliases  dtype flags_definition      name  \\\n",
       "product      measurement                                                      \n",
       "ls5_usgs_ard sr_band3       [band_3, red]  int16              NaN  sr_band3   \n",
       "             sr_band5     [band_5, swir1]  int16              NaN  sr_band5   \n",
       "\n",
       "                          nodata  \\\n",
       "product      measurement           \n",
       "ls5_usgs_ard sr_band3      -9999   \n",
       "             sr_band5      -9999   \n",
       "\n",
       "                                                        spectral_definition  \\\n",
       "product      measurement                                                      \n",
       "ls5_usgs_ard sr_band3     {'response': [0.0018, 0.002, 0.0079, 0.0205, 0...   \n",
       "             sr_band5     {'response': [0.0012, 0.0013, 0.0014, 0.0016, ...   \n",
       "\n",
       "                         units  \n",
       "product      measurement        \n",
       "ls5_usgs_ard sr_band3        1  \n",
       "             sr_band5        1  "
      ]
     },
     "execution_count": 22,
     "metadata": {},
     "output_type": "execute_result"
    }
   ],
   "source": [
    "bands = dc.list_measurements()\n",
    "requested = {'red', 'swir1'}\n",
    "band_listing = bands[bands['aliases'].apply(lambda b: bool(requested.intersection(b)))]\n",
    "band_listing"
   ]
  },
  {
   "cell_type": "code",
   "execution_count": 54,
   "metadata": {
    "collapsed": false
   },
   "outputs": [
    {
     "data": {
      "text/plain": [
       "['sr_band3', 'sr_band5']"
      ]
     },
     "execution_count": 54,
     "metadata": {},
     "output_type": "execute_result"
    }
   ],
   "source": [
    "measurements = band_listing.index.get_level_values(1).tolist()\n",
    "measurements"
   ]
  },
  {
   "cell_type": "code",
   "execution_count": 64,
   "metadata": {
    "collapsed": false
   },
   "outputs": [],
   "source": [
    "data = dc.load(\n",
    "    product='ls5_usgs_ard', \n",
    "    measurements=measurements, \n",
    "    dask_chunks={'x':5000, 'y':1}, \n",
    "#     time=('1991-03-18', '1991-04-20'),\n",
    ")"
   ]
  },
  {
   "cell_type": "code",
   "execution_count": 66,
   "metadata": {
    "collapsed": false
   },
   "outputs": [],
   "source": [
    "drill = data.isel(x=0, y=0)"
   ]
  },
  {
   "cell_type": "code",
   "execution_count": 68,
   "metadata": {
    "collapsed": false
   },
   "outputs": [],
   "source": [
    "drill = drill.sr_band3[:10]"
   ]
  },
  {
   "cell_type": "code",
   "execution_count": 69,
   "metadata": {
    "collapsed": false
   },
   "outputs": [
    {
     "data": {
      "text/plain": [
       "<xarray.DataArray 'sr_band3' (time: 10)>\n",
       "array([-9999, -9999, -9999, -9999, -9999, -9999, -9999, -9999, -9999, -9999], dtype=int16)\n",
       "Coordinates:\n",
       "  * time     (time) datetime64[ns] 1986-08-05T17:59:06 1990-03-25T17:57:20 ...\n",
       "    y        float64 3.015e+06\n",
       "    x        float64 -1.816e+06\n",
       "Attributes:\n",
       "    nodata: -9999\n",
       "    units: 1\n",
       "    crs: PROJCS[\"Albers\", GEOGCS[\"NAD83\", DATUM[\"North_American_Datum_1983\", SPHEROID[\"GRS 1980\",6378137,298.2572221010042, AUTHORITY[\"EPSG\",\"7019\"]], AUTHORITY[\"EPSG\",\"6269\"]], PRIMEM[\"Greenwich\",0], UNIT[\"degree\",0.0174532925199433],AUTHORITY[\"EPSG\",\"4269\"]], PROJECTION[\"Albers_Conic_Equal_Area\"], PARAMETER[\"standard_parallel_1\",29.5], PARAMETER[\"standard_parallel_2\",45.5], PARAMETER[\"latitude_of_center\",23], PARAMETER[\"longitude_of_center\",-96], PARAMETER[\"false_easting\",0], PARAMETER[\"false_northi...\n",
       "    spectral_definition: {'response': [0.0018, 0.002, 0.0079, 0.0205, 0.0375, 0.0409, 0.0555, 0.073, 0.0906, 0.1082, 0.1262, 0.1444, 0.1626, 0.2169, 0.2958, 0.3759, 0.4086, 0.4293, 0.4503, 0.4715, 0.4923, 0.5132, 0.5343, 0.5555, 0.5774, 0.6031, 0.6374, 0.6848, 0.7325, 0.7482, 0.7642, 0.7802, 0.7947, 0.8065, 0.8184, 0.8304, 0.8424, 0.8545, 0.8614, 0.8678, 0.8743, 0.8809, 0.8875, 0.8971, 0.9008, 0.9017, 0.9026, 0.9035, 0.9044, 0.9052, 0.9055, 0.9058, 0.906, 0.9062, 0.9064, 0.9104, 0.9143, 0.9195, 0.9266, 0.9338, 0.9412..."
      ]
     },
     "execution_count": 69,
     "metadata": {},
     "output_type": "execute_result"
    }
   ],
   "source": [
    "drill.load()"
   ]
  },
  {
   "cell_type": "code",
   "execution_count": 56,
   "metadata": {
    "collapsed": false
   },
   "outputs": [],
   "source": [
    "datasets = dc.find_datasets(product='ls5_usgs_ard', time=('1991-03-18', '1991-04-20'))"
   ]
  },
  {
   "cell_type": "code",
   "execution_count": 51,
   "metadata": {
    "collapsed": false
   },
   "outputs": [
    {
     "data": {
      "text/plain": [
       "'s3://test-odc-bucket/LT05_L1TP_044027_19910319_20160929_01_T1_sr_band1.tif'"
      ]
     },
     "execution_count": 51,
     "metadata": {},
     "output_type": "execute_result"
    }
   ],
   "source": [
    "dataset = datasets[0]\n",
    "dataset.measurements['sr_band1']['path']"
   ]
  },
  {
   "cell_type": "code",
   "execution_count": 60,
   "metadata": {
    "collapsed": false
   },
   "outputs": [
    {
     "data": {
      "text/plain": [
       "<xarray.Dataset>\n",
       "Dimensions:   (time: 11)\n",
       "Coordinates:\n",
       "  * time      (time) datetime64[ns] 1991-03-19T18:04:47 1991-03-26T18:10:39 ...\n",
       "    y         float64 2.865e+06\n",
       "    x         float64 -1.666e+06\n",
       "Data variables:\n",
       "    sr_band3  (time) int16 2849 -9999 -9999 -9999 -9999 -9999 -9999 953 ...\n",
       "    sr_band5  (time) int16 2810 -9999 -9999 -9999 -9999 -9999 -9999 2677 ...\n",
       "Attributes:\n",
       "    crs: PROJCS[\"Albers\", GEOGCS[\"NAD83\", DATUM[\"North_American_Datum_1983\", SPHEROID[\"GRS 1980\",6378137,298.2572221010042, AUTHORITY[\"EPSG\",\"7019\"]], AUTHORITY[\"EPSG\",\"6269\"]], PRIMEM[\"Greenwich\",0], UNIT[\"degree\",0.0174532925199433],AUTHORITY[\"EPSG\",\"4269\"]], PROJECTION[\"Albers_Conic_Equal_Area\"], PARAMETER[\"standard_parallel_1\",29.5], PARAMETER[\"standard_parallel_2\",45.5], PARAMETER[\"latitude_of_center\",23], PARAMETER[\"longitude_of_center\",-96], PARAMETER[\"false_easting\",0], PARAMETER[\"false_northi..."
      ]
     },
     "execution_count": 60,
     "metadata": {},
     "output_type": "execute_result"
    }
   ],
   "source": [
    "data.isel(x=-1, y=-1)"
   ]
  },
  {
   "cell_type": "code",
   "execution_count": null,
   "metadata": {
    "collapsed": true
   },
   "outputs": [],
   "source": []
  }
 ],
 "metadata": {
  "kernelspec": {
   "display_name": "Python 3",
   "language": "python",
   "name": "python3"
  },
  "language_info": {
   "codemirror_mode": {
    "name": "ipython",
    "version": 3
   },
   "file_extension": ".py",
   "mimetype": "text/x-python",
   "name": "python",
   "nbconvert_exporter": "python",
   "pygments_lexer": "ipython3",
   "version": "3.6.1"
  }
 },
 "nbformat": 4,
 "nbformat_minor": 2
}
