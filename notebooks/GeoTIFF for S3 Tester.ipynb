{
 "cells": [
  {
   "cell_type": "code",
   "execution_count": 3,
   "metadata": {
    "collapsed": true,
    "deletable": true,
    "editable": true
   },
   "outputs": [],
   "source": [
    "import sys\n",
    "from osgeo import gdal\n",
    "\n",
    "class ValidateCloudOptimizedGeoTIFFException(Exception):\n",
    "    pass"
   ]
  },
  {
   "cell_type": "code",
   "execution_count": 6,
   "metadata": {
    "collapsed": false,
    "deletable": true,
    "editable": true
   },
   "outputs": [
    {
     "name": "stdout",
     "output_type": "stream",
     "text": [
      "GDAL 2.2 or above required, you have 2010300\n"
     ]
    }
   ],
   "source": [
    "if int(gdal.VersionInfo('VERSION_NUM')) < 2020000:\n",
    "    print(\"GDAL 2.2 or above required, you have {}\".format(gdal.VersionInfo()))"
   ]
  },
  {
   "cell_type": "code",
   "execution_count": 42,
   "metadata": {
    "collapsed": true
   },
   "outputs": [],
   "source": [
    "filename = '/home/andrew/Data/usgs/ot_test.tif'"
   ]
  },
  {
   "cell_type": "code",
   "execution_count": 43,
   "metadata": {
    "collapsed": false
   },
   "outputs": [],
   "source": [
    "gdal.PushErrorHandler()\n",
    "ds = gdal.Open(filename)\n",
    "gdal.PopErrorHandler()\n",
    "if ds is None:\n",
    "    print(\"Invalid file : %s\" % gdal.GetLastErrorMsg())"
   ]
  },
  {
   "cell_type": "code",
   "execution_count": 44,
   "metadata": {
    "collapsed": true
   },
   "outputs": [],
   "source": [
    "if ds.GetDriver().ShortName != 'GTiff':\n",
    "    print(\"The file is not a GeoTIFF\")"
   ]
  },
  {
   "cell_type": "code",
   "execution_count": 45,
   "metadata": {
    "collapsed": true
   },
   "outputs": [],
   "source": [
    "main_band = ds.GetRasterBand(1)\n",
    "ovr_count = main_band.GetOverviewCount()\n",
    "if filename + '.ovr' in ds.GetFileList():\n",
    "    print(\"Overviews should be internal\")"
   ]
  },
  {
   "cell_type": "code",
   "execution_count": 46,
   "metadata": {
    "collapsed": false
   },
   "outputs": [],
   "source": [
    "block_size = main_band.GetBlockSize()\n",
    "if block_size[0] == main_band.XSize:\n",
    "    print(\"Full resolution image is not tiled\")"
   ]
  },
  {
   "cell_type": "code",
   "execution_count": 47,
   "metadata": {
    "collapsed": false
   },
   "outputs": [],
   "source": [
    "if main_band.XSize >= 512 or main_band.YSize >= 512:\n",
    "    if ovr_count == 0:\n",
    "        print(\"The file should have overviews\")"
   ]
  },
  {
   "cell_type": "code",
   "execution_count": 51,
   "metadata": {
    "collapsed": false
   },
   "outputs": [
    {
     "data": {
      "text/plain": [
       "['AREA_OR_POINT=Area', 'Band_1=band 1 surface reflectance']"
      ]
     },
     "execution_count": 51,
     "metadata": {},
     "output_type": "execute_result"
    }
   ],
   "source": [
    "ds.GetMetadata_List()"
   ]
  },
  {
   "cell_type": "code",
   "execution_count": 48,
   "metadata": {
    "collapsed": false
   },
   "outputs": [
    {
     "ename": "TypeError",
     "evalue": "int() argument must be a string, a bytes-like object or a number, not 'NoneType'",
     "output_type": "error",
     "traceback": [
      "\u001b[0;31m---------------------------------------------------------------------------\u001b[0m",
      "\u001b[0;31mTypeError\u001b[0m                                 Traceback (most recent call last)",
      "\u001b[0;32m<ipython-input-48-177b5e2054de>\u001b[0m in \u001b[0;36m<module>\u001b[0;34m()\u001b[0m\n\u001b[0;32m----> 1\u001b[0;31m \u001b[0mifd_offset\u001b[0m \u001b[0;34m=\u001b[0m \u001b[0;34m[\u001b[0m\u001b[0mint\u001b[0m\u001b[0;34m(\u001b[0m\u001b[0mmain_band\u001b[0m\u001b[0;34m.\u001b[0m\u001b[0mGetMetadataItem\u001b[0m\u001b[0;34m(\u001b[0m\u001b[0;34m'IFD_OFFSET'\u001b[0m\u001b[0;34m,\u001b[0m \u001b[0;34m'TIFF'\u001b[0m\u001b[0;34m)\u001b[0m\u001b[0;34m)\u001b[0m\u001b[0;34m]\u001b[0m\u001b[0;34m\u001b[0m\u001b[0m\n\u001b[0m\u001b[1;32m      2\u001b[0m \u001b[0;32mif\u001b[0m \u001b[0mifd_offset\u001b[0m\u001b[0;34m[\u001b[0m\u001b[0;36m0\u001b[0m\u001b[0;34m]\u001b[0m \u001b[0;34m!=\u001b[0m \u001b[0;36m8\u001b[0m\u001b[0;34m:\u001b[0m\u001b[0;34m\u001b[0m\u001b[0m\n\u001b[1;32m      3\u001b[0m     \u001b[0mprint\u001b[0m\u001b[0;34m(\u001b[0m\u001b[0;34m\"The offset of the main IFD should be 8. It is %d instead\"\u001b[0m \u001b[0;34m%\u001b[0m \u001b[0mifd_offset\u001b[0m\u001b[0;34m[\u001b[0m\u001b[0;36m0\u001b[0m\u001b[0;34m]\u001b[0m\u001b[0;34m)\u001b[0m\u001b[0;34m\u001b[0m\u001b[0m\n",
      "\u001b[0;31mTypeError\u001b[0m: int() argument must be a string, a bytes-like object or a number, not 'NoneType'"
     ]
    }
   ],
   "source": [
    "ifd_offset = [int(main_band.GetMetadataItem('IFD_OFFSET', 'TIFF'))]\n",
    "if ifd_offset[0] != 8:\n",
    "    print(\"The offset of the main IFD should be 8. It is %d instead\" % ifd_offset[0])"
   ]
  },
  {
   "cell_type": "code",
   "execution_count": 54,
   "metadata": {
    "collapsed": false
   },
   "outputs": [],
   "source": [
    "for i in range(ovr_count):\n",
    "    # Check that overviews are by descending sizes\n",
    "    ovr_band = ds.GetRasterBand(1).GetOverview(i)\n",
    "    if i == 0:\n",
    "        if ovr_band.XSize > main_band.XSize or ovr_band.YSize > main_band.YSize:\n",
    "                print(\"First overview has larger dimension than main band\")\n",
    "    else:\n",
    "        prev_ovr_band = ds.GetRasterBand(1).GetOverview(i-1)\n",
    "        if ovr_band.XSize > prev_ovr_band.XSize or ovr_band.YSize > prev_ovr_band.YSize:\n",
    "                print(\"Overview of index %d has larger dimension than overview of index %d\" % (i, i-1))\n",
    "\n",
    "    block_size = ovr_band.GetBlockSize()\n",
    "    if block_size[0] == ovr_band.XSize:\n",
    "        print(\"Overview of index %d is not tiled\" % i)"
   ]
  },
  {
   "cell_type": "code",
   "execution_count": 55,
   "metadata": {
    "collapsed": false
   },
   "outputs": [
    {
     "ename": "NameError",
     "evalue": "name 'ifd_offset' is not defined",
     "output_type": "error",
     "traceback": [
      "\u001b[0;31m---------------------------------------------------------------------------\u001b[0m",
      "\u001b[0;31mNameError\u001b[0m                                 Traceback (most recent call last)",
      "\u001b[0;32m<ipython-input-55-28c6a53f033c>\u001b[0m in \u001b[0;36m<module>\u001b[0;34m()\u001b[0m\n\u001b[1;32m      2\u001b[0m     \u001b[0;31m# Check that the IFD of descending overviews are sorted by increasing\u001b[0m\u001b[0;34m\u001b[0m\u001b[0;34m\u001b[0m\u001b[0m\n\u001b[1;32m      3\u001b[0m     \u001b[0;31m# offsets\u001b[0m\u001b[0;34m\u001b[0m\u001b[0;34m\u001b[0m\u001b[0m\n\u001b[0;32m----> 4\u001b[0;31m     \u001b[0mifd_offset\u001b[0m\u001b[0;34m.\u001b[0m\u001b[0mappend\u001b[0m\u001b[0;34m(\u001b[0m\u001b[0mint\u001b[0m\u001b[0;34m(\u001b[0m\u001b[0movr_band\u001b[0m\u001b[0;34m.\u001b[0m\u001b[0mGetMetadataItem\u001b[0m\u001b[0;34m(\u001b[0m\u001b[0;34m'IFD_OFFSET'\u001b[0m\u001b[0;34m,\u001b[0m \u001b[0;34m'TIFF'\u001b[0m\u001b[0;34m)\u001b[0m\u001b[0;34m)\u001b[0m\u001b[0;34m)\u001b[0m\u001b[0;34m\u001b[0m\u001b[0m\n\u001b[0m\u001b[1;32m      5\u001b[0m     \u001b[0;32mif\u001b[0m \u001b[0mifd_offset\u001b[0m\u001b[0;34m[\u001b[0m\u001b[0;34m-\u001b[0m\u001b[0;36m1\u001b[0m\u001b[0;34m]\u001b[0m \u001b[0;34m<\u001b[0m \u001b[0mifd_offset\u001b[0m\u001b[0;34m[\u001b[0m\u001b[0;34m-\u001b[0m\u001b[0;36m2\u001b[0m\u001b[0;34m]\u001b[0m\u001b[0;34m:\u001b[0m\u001b[0;34m\u001b[0m\u001b[0m\n\u001b[1;32m      6\u001b[0m         \u001b[0;32mif\u001b[0m \u001b[0mi\u001b[0m \u001b[0;34m==\u001b[0m \u001b[0;36m0\u001b[0m\u001b[0;34m:\u001b[0m\u001b[0;34m\u001b[0m\u001b[0m\n",
      "\u001b[0;31mNameError\u001b[0m: name 'ifd_offset' is not defined"
     ]
    }
   ],
   "source": [
    "for i in range(ovr_count):\n",
    "    # Check that the IFD of descending overviews are sorted by increasing\n",
    "    # offsets\n",
    "    ifd_offset.append(int(ovr_band.GetMetadataItem('IFD_OFFSET', 'TIFF')))\n",
    "    if ifd_offset[-1] < ifd_offset[-2]:\n",
    "        if i == 0:\n",
    "            print(\n",
    "                \"The offset of the IFD for overview of index %d is %d, \"\n",
    "                \"whereas it should be greater than the one of the main \"\n",
    "                \"image, which is at byte %d\" %\n",
    "                (i, ifd_offset[-1], ifd_offset[-2]))\n",
    "        else:\n",
    "            print(\n",
    "                \"The offset of the IFD for overview of index %d is %d, \"\n",
    "                \"whereas it should be greater than the one of index %d, \"\n",
    "                \"which is at byte %d\" %\n",
    "                (i, ifd_offset[-1], i-1, ifd_offset[-2]))"
   ]
  },
  {
   "cell_type": "code",
   "execution_count": 21,
   "metadata": {
    "collapsed": false
   },
   "outputs": [
    {
     "ename": "NameError",
     "evalue": "name 'ifd_offset' is not defined",
     "output_type": "error",
     "traceback": [
      "\u001b[0;31m---------------------------------------------------------------------------\u001b[0m",
      "\u001b[0;31mNameError\u001b[0m                                 Traceback (most recent call last)",
      "\u001b[0;32m<ipython-input-21-157b9de61fd5>\u001b[0m in \u001b[0;36m<module>\u001b[0;34m()\u001b[0m\n\u001b[1;32m      6\u001b[0m     data_offset.append(int(\n\u001b[1;32m      7\u001b[0m         ovr_band.GetMetadataItem('BLOCK_OFFSET_0_0', 'TIFF')))\n\u001b[0;32m----> 8\u001b[0;31m \u001b[0;32mif\u001b[0m \u001b[0mdata_offset\u001b[0m\u001b[0;34m[\u001b[0m\u001b[0;34m-\u001b[0m\u001b[0;36m1\u001b[0m\u001b[0;34m]\u001b[0m \u001b[0;34m<\u001b[0m \u001b[0mifd_offset\u001b[0m\u001b[0;34m[\u001b[0m\u001b[0;34m-\u001b[0m\u001b[0;36m1\u001b[0m\u001b[0;34m]\u001b[0m\u001b[0;34m:\u001b[0m\u001b[0;34m\u001b[0m\u001b[0m\n\u001b[0m\u001b[1;32m      9\u001b[0m     \u001b[0;32mif\u001b[0m \u001b[0movr_count\u001b[0m \u001b[0;34m>\u001b[0m \u001b[0;36m0\u001b[0m\u001b[0;34m:\u001b[0m\u001b[0;34m\u001b[0m\u001b[0m\n\u001b[1;32m     10\u001b[0m         print(\n",
      "\u001b[0;31mNameError\u001b[0m: name 'ifd_offset' is not defined"
     ]
    }
   ],
   "source": [
    "# Check that the imagery starts by the smallest overview and ends with\n",
    "# the main resolution dataset\n",
    "data_offset = [int(main_band.GetMetadataItem('BLOCK_OFFSET_0_0', 'TIFF'))]\n",
    "for i in range(ovr_count):\n",
    "    ovr_band = ds.GetRasterBand(1).GetOverview(i)\n",
    "    data_offset.append(int(\n",
    "        ovr_band.GetMetadataItem('BLOCK_OFFSET_0_0', 'TIFF')))\n",
    "if data_offset[-1] < ifd_offset[-1]:\n",
    "    if ovr_count > 0:\n",
    "        print(\n",
    "            \"The offset of the first block of the smallest overview \"\n",
    "            \"should be after its IFD\")\n",
    "    else:\n",
    "        print(\n",
    "            \"The offset of the first block of the image should \"\n",
    "            \"be after its IFD\")"
   ]
  },
  {
   "cell_type": "code",
   "execution_count": 56,
   "metadata": {
    "collapsed": true,
    "deletable": true,
    "editable": true
   },
   "outputs": [],
   "source": [
    "for i in range(len(data_offset)-2, 0, -1):\n",
    "    if data_offset[i] < data_offset[i+1]:\n",
    "        print(\n",
    "            \"The offset of the first block of overview of index %d should \"\n",
    "            \"be after the one of the overview of index %d\" %\n",
    "            (i-1, i))\n",
    "if len(data_offset) >= 2 and data_offset[0] < data_offset[1]:\n",
    "    print(\n",
    "        \"The offset of the first block of the main resolution image \"\n",
    "        \"should be after the one of the overview of index %d\" %\n",
    "        (ovr_count - 1))"
   ]
  },
  {
   "cell_type": "code",
   "execution_count": null,
   "metadata": {
    "collapsed": true
   },
   "outputs": [],
   "source": []
  },
  {
   "cell_type": "code",
   "execution_count": null,
   "metadata": {
    "collapsed": true
   },
   "outputs": [],
   "source": []
  },
  {
   "cell_type": "code",
   "execution_count": 24,
   "metadata": {
    "collapsed": true
   },
   "outputs": [],
   "source": [
    "!cp /home/andrew/Data/usgs/LT050430271984116-SC20170101123907/LT05_L1TP_043027_19840425_20161004_01_T1_sr_band1.tif /home/andrew/Data/usgs/otest.tif"
   ]
  },
  {
   "cell_type": "code",
   "execution_count": 29,
   "metadata": {
    "collapsed": false
   },
   "outputs": [
    {
     "name": "stdout",
     "output_type": "stream",
     "text": [
      "Driver: GTiff/GeoTIFF\r\n",
      "Files: /home/andrew/Data/usgs/otest.tif\r\n",
      "Size is 5000, 5000\r\n",
      "Coordinate System is:\r\n",
      "PROJCS[\"Albers\",\r\n",
      "    GEOGCS[\"NAD83\",\r\n",
      "        DATUM[\"North_American_Datum_1983\",\r\n",
      "            SPHEROID[\"GRS 1980\",6378137,298.2572221010042,\r\n",
      "                AUTHORITY[\"EPSG\",\"7019\"]],\r\n",
      "            AUTHORITY[\"EPSG\",\"6269\"]],\r\n",
      "        PRIMEM[\"Greenwich\",0],\r\n",
      "        UNIT[\"degree\",0.0174532925199433],\r\n",
      "        AUTHORITY[\"EPSG\",\"4269\"]],\r\n",
      "    PROJECTION[\"Albers_Conic_Equal_Area\"],\r\n",
      "    PARAMETER[\"standard_parallel_1\",29.5],\r\n",
      "    PARAMETER[\"standard_parallel_2\",45.5],\r\n",
      "    PARAMETER[\"latitude_of_center\",23],\r\n",
      "    PARAMETER[\"longitude_of_center\",-96],\r\n",
      "    PARAMETER[\"false_easting\",0],\r\n",
      "    PARAMETER[\"false_northing\",0],\r\n",
      "    UNIT[\"metre\",1,\r\n",
      "        AUTHORITY[\"EPSG\",\"9001\"]]]\r\n",
      "Origin = (-1815585.000000000000000,3014805.000000000000000)\r\n",
      "Pixel Size = (30.000000000000000,-30.000000000000000)\r\n",
      "Metadata:\r\n",
      "  AREA_OR_POINT=Area\r\n",
      "  Band_1=band 1 surface reflectance\r\n",
      "Image Structure Metadata:\r\n",
      "  INTERLEAVE=BAND\r\n",
      "Corner Coordinates:\r\n",
      "Upper Left  (-1815585.000, 3014805.000) (120d24'13.88\"W, 48d 1'13.08\"N)\r\n",
      "Lower Left  (-1815585.000, 2864805.000) (119d54'26.89\"W, 46d42'24.15\"N)\r\n",
      "Upper Right (-1665585.000, 3014805.000) (118d27'54.24\"W, 48d21' 9.32\"N)\r\n",
      "Lower Right (-1665585.000, 2864805.000) (118d 0'18.30\"W, 47d 1'51.06\"N)\r\n",
      "Center      (-1740585.000, 2939805.000) (119d11'43.33\"W, 47d31'49.23\"N)\r\n",
      "Band 1 Block=5000x1 Type=Int16, ColorInterp=Gray\r\n",
      "  Description = band 1 surface reflectance\r\n",
      "  NoData Value=-9999\r\n"
     ]
    }
   ],
   "source": [
    "!gdalinfo ~/Data/usgs/otest.tif"
   ]
  },
  {
   "cell_type": "code",
   "execution_count": 32,
   "metadata": {
    "collapsed": false
   },
   "outputs": [
    {
     "name": "stdout",
     "output_type": "stream",
     "text": [
      "Driver: GTiff/GeoTIFF\r\n",
      "Files: /home/andrew/Data/usgs/otest.tif\r\n",
      "Size is 5000, 5000\r\n",
      "Coordinate System is:\r\n",
      "PROJCS[\"Albers\",\r\n",
      "    GEOGCS[\"NAD83\",\r\n",
      "        DATUM[\"North_American_Datum_1983\",\r\n",
      "            SPHEROID[\"GRS 1980\",6378137,298.2572221010042,\r\n",
      "                AUTHORITY[\"EPSG\",\"7019\"]],\r\n",
      "            AUTHORITY[\"EPSG\",\"6269\"]],\r\n",
      "        PRIMEM[\"Greenwich\",0],\r\n",
      "        UNIT[\"degree\",0.0174532925199433],\r\n",
      "        AUTHORITY[\"EPSG\",\"4269\"]],\r\n",
      "    PROJECTION[\"Albers_Conic_Equal_Area\"],\r\n",
      "    PARAMETER[\"standard_parallel_1\",29.5],\r\n",
      "    PARAMETER[\"standard_parallel_2\",45.5],\r\n",
      "    PARAMETER[\"latitude_of_center\",23],\r\n",
      "    PARAMETER[\"longitude_of_center\",-96],\r\n",
      "    PARAMETER[\"false_easting\",0],\r\n",
      "    PARAMETER[\"false_northing\",0],\r\n",
      "    UNIT[\"metre\",1,\r\n",
      "        AUTHORITY[\"EPSG\",\"9001\"]]]\r\n",
      "Origin = (-1815585.000000000000000,3014805.000000000000000)\r\n",
      "Pixel Size = (30.000000000000000,-30.000000000000000)\r\n",
      "Metadata:\r\n",
      "  AREA_OR_POINT=Area\r\n",
      "  Band_1=band 1 surface reflectance\r\n",
      "Image Structure Metadata:\r\n",
      "  INTERLEAVE=BAND\r\n",
      "Corner Coordinates:\r\n",
      "Upper Left  (-1815585.000, 3014805.000) (120d24'13.88\"W, 48d 1'13.08\"N)\r\n",
      "Lower Left  (-1815585.000, 2864805.000) (119d54'26.89\"W, 46d42'24.15\"N)\r\n",
      "Upper Right (-1665585.000, 3014805.000) (118d27'54.24\"W, 48d21' 9.32\"N)\r\n",
      "Lower Right (-1665585.000, 2864805.000) (118d 0'18.30\"W, 47d 1'51.06\"N)\r\n",
      "Center      (-1740585.000, 2939805.000) (119d11'43.33\"W, 47d31'49.23\"N)\r\n",
      "Band 1 Block=5000x1 Type=Int16, ColorInterp=Gray\r\n",
      "  Description = band 1 surface reflectance\r\n",
      "  NoData Value=-9999\r\n",
      "  Overviews: 2500x2500, 1250x1250, 625x625\r\n"
     ]
    }
   ],
   "source": [
    "!gdalinfo ~/Data/usgs/otest.tif"
   ]
  },
  {
   "cell_type": "code",
   "execution_count": 23,
   "metadata": {
    "collapsed": false
   },
   "outputs": [
    {
     "name": "stdout",
     "output_type": "stream",
     "text": [
      "Usage: gdaladdo [-r {nearest,average,gauss,cubic,cubicspline,lanczos,average_mp,average_magphase,mode}]\r\n",
      "                [-ro] [-clean] [-q] [-oo NAME=VALUE]* [--help-general] filename levels\r\n",
      "\r\n",
      "  -r : choice of resampling method (default: nearest)\r\n",
      "  -ro : open the dataset in read-only mode, in order to generate\r\n",
      "        external overview (for GeoTIFF datasets especially)\r\n",
      "  -clean : remove all overviews\r\n",
      "  -q : turn off progress display\r\n",
      "  -b : band to create overview (if not set overviews will be created for all bands)\r\n",
      "  filename: The file to build overviews for (or whose overviews must be removed).\r\n",
      "  levels: A list of integral overview levels to build. Ignored with -clean option.\r\n",
      "\r\n",
      "Useful configuration variables :\r\n",
      "  --config USE_RRD YES : Use Erdas Imagine format (.aux) as overview format.\r\n",
      "Below, only for external overviews in GeoTIFF format:\r\n",
      "  --config COMPRESS_OVERVIEW {JPEG,LZW,PACKBITS,DEFLATE} : TIFF compression\r\n",
      "  --config PHOTOMETRIC_OVERVIEW {RGB,YCBCR,...} : TIFF photometric interp.\r\n",
      "  --config INTERLEAVE_OVERVIEW {PIXEL|BAND} : TIFF interleaving method\r\n",
      "  --config BIGTIFF_OVERVIEW {IF_NEEDED|IF_SAFER|YES|NO} : is BigTIFF used\r\n",
      "\r\n",
      "Examples:\r\n",
      " % gdaladdo -r average abc.tif 2 4 8 16\r\n",
      " % gdaladdo --config COMPRESS_OVERVIEW JPEG\r\n",
      "             --config PHOTOMETRIC_OVERVIEW YCBCR\r\n",
      "             --config INTERLEAVE_OVERVIEW PIXEL -ro abc.tif 2 4 8 16\r\n"
     ]
    }
   ],
   "source": [
    "!gdaladdo --help"
   ]
  },
  {
   "cell_type": "code",
   "execution_count": 31,
   "metadata": {
    "collapsed": false
   },
   "outputs": [
    {
     "name": "stdout",
     "output_type": "stream",
     "text": [
      "0...10...20...30...40...50...60...70...80...90...100 - done.\n"
     ]
    }
   ],
   "source": [
    "!gdaladdo -r cubic ~/Data/usgs/otest.tif 2 4 8 "
   ]
  },
  {
   "cell_type": "code",
   "execution_count": 40,
   "metadata": {
    "collapsed": false
   },
   "outputs": [
    {
     "name": "stdout",
     "output_type": "stream",
     "text": [
      "Input file size is 5000, 5000\n",
      "0...10...20...30...40...50...60...70...80...90...100 - done.\n"
     ]
    }
   ],
   "source": [
    "!gdal_translate ~/Data/usgs/otest.tif ~/Data/usgs/ot_test.tif -co TILED=YES -co COPY_SRC_OVERVIEWS=YES -co COMPRESS=DEFLATE"
   ]
  },
  {
   "cell_type": "code",
   "execution_count": 41,
   "metadata": {
    "collapsed": false
   },
   "outputs": [
    {
     "name": "stdout",
     "output_type": "stream",
     "text": [
      "Driver: GTiff/GeoTIFF\r\n",
      "Files: /home/andrew/Data/usgs/ot_test.tif\r\n",
      "Size is 5000, 5000\r\n",
      "Coordinate System is:\r\n",
      "PROJCS[\"Albers\",\r\n",
      "    GEOGCS[\"NAD83\",\r\n",
      "        DATUM[\"North_American_Datum_1983\",\r\n",
      "            SPHEROID[\"GRS 1980\",6378137,298.2572221010042,\r\n",
      "                AUTHORITY[\"EPSG\",\"7019\"]],\r\n",
      "            AUTHORITY[\"EPSG\",\"6269\"]],\r\n",
      "        PRIMEM[\"Greenwich\",0],\r\n",
      "        UNIT[\"degree\",0.0174532925199433],\r\n",
      "        AUTHORITY[\"EPSG\",\"4269\"]],\r\n",
      "    PROJECTION[\"Albers_Conic_Equal_Area\"],\r\n",
      "    PARAMETER[\"standard_parallel_1\",29.5],\r\n",
      "    PARAMETER[\"standard_parallel_2\",45.5],\r\n",
      "    PARAMETER[\"latitude_of_center\",23],\r\n",
      "    PARAMETER[\"longitude_of_center\",-96],\r\n",
      "    PARAMETER[\"false_easting\",0],\r\n",
      "    PARAMETER[\"false_northing\",0],\r\n",
      "    UNIT[\"metre\",1,\r\n",
      "        AUTHORITY[\"EPSG\",\"9001\"]]]\r\n",
      "Origin = (-1815585.000000000000000,3014805.000000000000000)\r\n",
      "Pixel Size = (30.000000000000000,-30.000000000000000)\r\n",
      "Metadata:\r\n",
      "  AREA_OR_POINT=Area\r\n",
      "  Band_1=band 1 surface reflectance\r\n",
      "Image Structure Metadata:\r\n",
      "  COMPRESSION=DEFLATE\r\n",
      "  INTERLEAVE=BAND\r\n",
      "Corner Coordinates:\r\n",
      "Upper Left  (-1815585.000, 3014805.000) (120d24'13.88\"W, 48d 1'13.08\"N)\r\n",
      "Lower Left  (-1815585.000, 2864805.000) (119d54'26.89\"W, 46d42'24.15\"N)\r\n",
      "Upper Right (-1665585.000, 3014805.000) (118d27'54.24\"W, 48d21' 9.32\"N)\r\n",
      "Lower Right (-1665585.000, 2864805.000) (118d 0'18.30\"W, 47d 1'51.06\"N)\r\n",
      "Center      (-1740585.000, 2939805.000) (119d11'43.33\"W, 47d31'49.23\"N)\r\n",
      "Band 1 Block=256x256 Type=Int16, ColorInterp=Gray\r\n",
      "  Description = band 1 surface reflectance\r\n",
      "  NoData Value=-9999\r\n",
      "  Overviews: 2500x2500, 1250x1250, 625x625\r\n"
     ]
    }
   ],
   "source": [
    "!gdalinfo ~/Data/usgs/ot_test.tif"
   ]
  },
  {
   "cell_type": "code",
   "execution_count": null,
   "metadata": {
    "collapsed": true
   },
   "outputs": [],
   "source": []
  },
  {
   "cell_type": "code",
   "execution_count": null,
   "metadata": {
    "collapsed": true
   },
   "outputs": [],
   "source": []
  },
  {
   "cell_type": "code",
   "execution_count": 57,
   "metadata": {
    "collapsed": true
   },
   "outputs": [],
   "source": [
    "import urllib"
   ]
  },
  {
   "cell_type": "code",
   "execution_count": 58,
   "metadata": {
    "collapsed": true
   },
   "outputs": [],
   "source": [
    "urllib.parse.uses_relative.append('s3')"
   ]
  },
  {
   "cell_type": "code",
   "execution_count": null,
   "metadata": {
    "collapsed": true
   },
   "outputs": [],
   "source": []
  }
 ],
 "metadata": {
  "kernelspec": {
   "display_name": "Python 3",
   "language": "python",
   "name": "python3"
  },
  "language_info": {
   "codemirror_mode": {
    "name": "ipython",
    "version": 3
   },
   "file_extension": ".py",
   "mimetype": "text/x-python",
   "name": "python",
   "nbconvert_exporter": "python",
   "pygments_lexer": "ipython3",
   "version": "3.6.1"
  }
 },
 "nbformat": 4,
 "nbformat_minor": 2
}
