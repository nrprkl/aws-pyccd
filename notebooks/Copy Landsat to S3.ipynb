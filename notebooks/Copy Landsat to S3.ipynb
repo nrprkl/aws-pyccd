{
 "cells": [
  {
   "cell_type": "markdown",
   "metadata": {},
   "source": [
    "# Overview\n",
    "\n",
    "This notebook shows you how to put Landsat data into an AWS deployment of the Open Data Cube.\n",
    "\n",
    "## Credentials\n",
    "\n",
    "We use the Boto3 library to work with AWS. Saving data to S3 requires credentials with permission to put data into an S3 bucket. Obviously, if you're contributing to this notebook, you shouldn't commit credentials to the repository. "
   ]
  },
  {
   "cell_type": "code",
   "execution_count": 4,
   "metadata": {
    "collapsed": true
   },
   "outputs": [],
   "source": [
    "import boto3"
   ]
  },
  {
   "cell_type": "code",
   "execution_count": 12,
   "metadata": {},
   "outputs": [
    {
     "name": "stdout",
     "output_type": "stream",
     "text": [
      "LT05_L1TP_043027_19860805_20161004_01_T1.xml\n",
      "LT05_L1TP_043027_19860805_20161004_01_T1_ANG.txt\n",
      "LT05_L1TP_043027_19860805_20161004_01_T1_GCP.txt\n",
      "LT05_L1TP_043027_19860805_20161004_01_T1_MTL.txt\n",
      "LT05_L1TP_043027_19860805_20161004_01_T1_VER.jpg\n",
      "LT05_L1TP_043027_19860805_20161004_01_T1_VER.txt\n",
      "LT05_L1TP_043027_19860805_20161004_01_T1_bqa.tif\n",
      "LT05_L1TP_043027_19860805_20161004_01_T1_cfmask.tif\n",
      "LT05_L1TP_043027_19860805_20161004_01_T1_cfmask_conf.tif\n",
      "LT05_L1TP_043027_19860805_20161004_01_T1_sr_atmos_opacity.tif\n",
      "LT05_L1TP_043027_19860805_20161004_01_T1_sr_band1.tif\n",
      "LT05_L1TP_043027_19860805_20161004_01_T1_sr_band2.tif\n",
      "LT05_L1TP_043027_19860805_20161004_01_T1_sr_band3.tif\n",
      "LT05_L1TP_043027_19860805_20161004_01_T1_sr_band4.tif\n",
      "LT05_L1TP_043027_19860805_20161004_01_T1_sr_band5.tif\n",
      "LT05_L1TP_043027_19860805_20161004_01_T1_sr_band7.tif\n",
      "LT05_L1TP_043027_19860805_20161004_01_T1_sr_cloud_qa.tif\n",
      "LT05_L1TP_043027_19860805_20161004_01_T1_toa_band1.tif\n",
      "LT05_L1TP_043027_19860805_20161004_01_T1_toa_band2.tif\n",
      "LT05_L1TP_043027_19860805_20161004_01_T1_toa_band3.tif\n",
      "LT05_L1TP_043027_19860805_20161004_01_T1_toa_band4.tif\n",
      "LT05_L1TP_043027_19860805_20161004_01_T1_toa_band5.tif\n",
      "LT05_L1TP_043027_19860805_20161004_01_T1_toa_band6.tif\n",
      "LT05_L1TP_043027_19860805_20161004_01_T1_toa_band6_qa.tif\n",
      "LT05_L1TP_043027_19860805_20161004_01_T1_toa_band7.tif\n",
      "LT05_L1TP_043027_19860805_20161004_01_T1_toa_qa.tif\n"
     ]
    }
   ],
   "source": [
    "s3 = boto3.resource('s3')\n",
    "bucket = s3.Bucket('test-odc-bucket')\n",
    "for obj in bucket.objects.all():\n",
    "    print(obj.key)"
   ]
  },
  {
   "cell_type": "markdown",
   "metadata": {},
   "source": [
    "## 2. Saving a Scene"
   ]
  },
  {
   "cell_type": "code",
   "execution_count": 6,
   "metadata": {},
   "outputs": [],
   "source": [
    "import requests\n",
    "import gzip\n",
    "import tarfile\n",
    "import io"
   ]
  },
  {
   "cell_type": "code",
   "execution_count": null,
   "metadata": {},
   "outputs": [],
   "source": [
    "def download(url):\n",
    "    \"\"\"\"\"\"\n",
    "    r = requests.get(url, stream=True)\n",
    "    r.raw.decode_content = True\n",
    "    data = io.BytesIO(r.raw)\n",
    "    return data"
   ]
  },
  {
   "cell_type": "code",
   "execution_count": 9,
   "metadata": {},
   "outputs": [],
   "source": [
    "def expand_and_put(path):\n",
    "    \"\"\"\"\"\"\n",
    "    with tarfile.open(path) as tar:\n",
    "        for name in tar.getnames():\n",
    "            print(name)\n",
    "            data = tar.extractfile(name).read()\n",
    "            bucket.put_object(Key=name, Body=data)"
   ]
  },
  {
   "cell_type": "code",
   "execution_count": 11,
   "metadata": {},
   "outputs": [
    {
     "name": "stdout",
     "output_type": "stream",
     "text": [
      "LT05_L1TP_043027_19860720_20161004_01_T1_bqa.tif\n",
      "LT05_L1TP_043027_19860720_20161004_01_T1_VER.jpg\n",
      "LT05_L1TP_043027_19860720_20161004_01_T1_toa_band1.tif\n",
      "LT05_L1TP_043027_19860720_20161004_01_T1_cfmask_conf.tif\n",
      "LT05_L1TP_043027_19860720_20161004_01_T1_GCP.txt\n",
      "LT05_L1TP_043027_19860720_20161004_01_T1_sr_band1.tif\n",
      "LT05_L1TP_043027_19860720_20161004_01_T1_sr_band3.tif\n",
      "LT05_L1TP_043027_19860720_20161004_01_T1_toa_band7.tif\n",
      "LT05_L1TP_043027_19860720_20161004_01_T1_sr_band5.tif\n",
      "LT05_L1TP_043027_19860720_20161004_01_T1_toa_band5.tif\n",
      "LT05_L1TP_043027_19860720_20161004_01_T1_ANG.txt\n",
      "LT05_L1TP_043027_19860720_20161004_01_T1_cfmask.tif\n",
      "LT05_L1TP_043027_19860720_20161004_01_T1_sr_band4.tif\n",
      "LT05_L1TP_043027_19860720_20161004_01_T1.xml\n",
      "LT05_L1TP_043027_19860720_20161004_01_T1_VER.txt\n",
      "LT05_L1TP_043027_19860720_20161004_01_T1_sr_atmos_opacity.tif\n",
      "LT05_L1TP_043027_19860720_20161004_01_T1_toa_band4.tif\n",
      "LT05_L1TP_043027_19860720_20161004_01_T1_toa_band2.tif\n",
      "LT05_L1TP_043027_19860720_20161004_01_T1_toa_band6_qa.tif\n",
      "LT05_L1TP_043027_19860720_20161004_01_T1_sr_cloud_qa.tif\n",
      "LT05_L1TP_043027_19860720_20161004_01_T1_toa_band3.tif\n",
      "LT05_L1TP_043027_19860720_20161004_01_T1_toa_qa.tif\n",
      "LT05_L1TP_043027_19860720_20161004_01_T1_sr_band7.tif\n",
      "LT05_L1TP_043027_19860720_20161004_01_T1_MTL.txt\n",
      "LT05_L1TP_043027_19860720_20161004_01_T1_toa_band6.tif\n",
      "LT05_L1TP_043027_19860720_20161004_01_T1_sr_band2.tif\n"
     ]
    }
   ],
   "source": [
    "url = 'data/foo.tar.gz'\n",
    "data = expand_and_put(url)"
   ]
  },
  {
   "cell_type": "markdown",
   "metadata": {},
   "source": [
    "## 3. Build a Dataset YAML\n",
    "\n",
    "## 4. Build an Index"
   ]
  }
 ],
 "metadata": {
  "kernelspec": {
   "display_name": "Python 3",
   "language": "python",
   "name": "python3"
  },
  "language_info": {
   "codemirror_mode": {
    "name": "ipython",
    "version": 3
   },
   "file_extension": ".py",
   "mimetype": "text/x-python",
   "name": "python",
   "nbconvert_exporter": "python",
   "pygments_lexer": "ipython3",
   "version": "3.5.1"
  }
 },
 "nbformat": 4,
 "nbformat_minor": 2
}
