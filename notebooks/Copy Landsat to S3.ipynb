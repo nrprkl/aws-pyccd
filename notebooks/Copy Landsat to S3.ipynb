{
 "cells": [
  {
   "cell_type": "markdown",
   "metadata": {},
   "source": [
    "# Overview\n",
    "\n",
    "This notebook shows you how to put Landsat data into an AWS deployment of the Open Data Cube.\n",
    "\n",
    "## Credentials\n",
    "\n",
    "We use the Boto3 library to work with AWS. Your credentials should be saved to `~/.aws/config`, the file should looks something like this:\n",
    "\n",
    "```\n",
    "[default]\n",
    "aws_access_key_id = ABC123\n",
    "aws_secret_access_key = /Z+ABC123\n",
    "region = us-east-1\n",
    "```"
   ]
  },
  {
   "cell_type": "code",
   "execution_count": null,
   "metadata": {
    "collapsed": true
   },
   "outputs": [],
   "source": [
    "import boto3\n",
    "import tarfile\n",
    "import io\n",
    "import glob"
   ]
  },
  {
   "cell_type": "markdown",
   "metadata": {},
   "source": [
    "## 2. Saving a Scene\n",
    "\n",
    "The source data is decompressed, individual files are put to S3. We assume source input is available somewhere on a local filesystem. This function is used to expand a file and put each item into an S3 bucket."
   ]
  },
  {
   "cell_type": "code",
   "execution_count": null,
   "metadata": {
    "collapsed": true
   },
   "outputs": [],
   "source": [
    "bucket = s3.Bucket('test-odc-bucket')"
   ]
  },
  {
   "cell_type": "code",
   "execution_count": 27,
   "metadata": {
    "collapsed": true
   },
   "outputs": [],
   "source": [
    "def expand_and_put(path):\n",
    "    \"\"\"\"\"\"\n",
    "    with tarfile.open(path) as tar:\n",
    "        print(\"processing: {}\".format(path))\n",
    "        for name in tar.getnames():\n",
    "            print(\"saving: {}\".format(name))\n",
    "            data = tar.extractfile(name).read()\n",
    "            bucket.put_object(Key=name, Body=data)"
   ]
  },
  {
   "cell_type": "code",
   "execution_count": null,
   "metadata": {
    "collapsed": true
   },
   "outputs": [],
   "source": [
    "base_path = '/espa-storage/downloads/lcmap/sites/washington/'"
   ]
  },
  {
   "cell_type": "code",
   "execution_count": null,
   "metadata": {},
   "outputs": [],
   "source": [
    "for path in glob.glob(base_path + 'H05V02-*/LT05*1993*.tar.gz'):\n",
    "    expand_and_put(path)\n",
    "for path in glob.glob(base_path + 'H05V02-*/LT05*1994*.tar.gz'):\n",
    "    expand_and_put(path)\n",
    "for path in glob.glob(base_path + 'H05V02-*/LT05*1995*.tar.gz'):\n",
    "    expand_and_put(path)\n",
    "for path in glob.glob(base_path + 'H05V02-*/LT05*1996*.tar.gz'):\n",
    "    expand_and_put(path)\n",
    "for path in glob.glob(base_path + 'H05V02-*/LT05*1997*.tar.gz'):\n",
    "    expand_and_put(path)\n",
    "for path in glob.glob(base_path + 'H05V02-*/LT05*1998*.tar.gz'):\n",
    "    expand_and_put(path)\n",
    "for path in glob.glob(base_path + 'H05V02-*/LT05*1999*.tar.gz'):\n",
    "    expand_and_put(path)"
   ]
  },
  {
   "cell_type": "markdown",
   "metadata": {},
   "source": [
    "## 3. Build a Dataset YAML\n",
    "\n",
    "TBD.\n",
    "\n",
    "## 4. Build an Index\n",
    "\n",
    "TBD."
   ]
  }
 ],
 "metadata": {
  "kernelspec": {
   "display_name": "Python 3",
   "language": "python",
   "name": "python3"
  },
  "language_info": {
   "codemirror_mode": {
    "name": "ipython",
    "version": 3
   },
   "file_extension": ".py",
   "mimetype": "text/x-python",
   "name": "python",
   "nbconvert_exporter": "python",
   "pygments_lexer": "ipython3",
   "version": "3.5.2"
  }
 },
 "nbformat": 4,
 "nbformat_minor": 2
}
